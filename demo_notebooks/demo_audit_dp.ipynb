{
 "cells": [
  {
   "cell_type": "markdown",
   "id": "initial_id",
   "metadata": {
    "collapsed": true
   },
   "source": [
    "# Privacy Meter Demo: Auditing Differential Privacy Lower Bound"
   ]
  },
  {
   "cell_type": "markdown",
   "id": "83217c64",
   "metadata": {},
   "source": [
    "## Setting up the Colab environment\n",
    "\n",
    "If you are running it offline, you can skip to \"Importing\""
   ]
  },
  {
   "cell_type": "code",
   "execution_count": null,
   "id": "c1759435",
   "metadata": {},
   "outputs": [],
   "source": [
    "# Clone the github repo\n",
    "!git clone https://github.com/privacytrustlab/ml_privacy_meter.git\n",
    "\n",
    "# Update the Colab environment\n",
    "%pip install datasets==2.21.0 transformers==4.44.2 torch==2.4.1 torchvision==0.19.1 torchaudio\n",
    "\n",
    "# install DP training libaries\n",
    "%pip install opacus"
   ]
  },
  {
   "cell_type": "code",
   "execution_count": null,
   "id": "757beb57",
   "metadata": {},
   "outputs": [],
   "source": [
    "# Change the directory to the cloned repo\n",
    "import sys\n",
    "sys.path.append('/content/ml_privacy_meter')\n",
    "\n",
    "%cd ml_privacy_meter"
   ]
  },
  {
   "cell_type": "markdown",
   "id": "b243137d",
   "metadata": {},
   "source": [
    "## Importing"
   ]
  },
  {
   "cell_type": "code",
   "execution_count": 1,
   "id": "70647b67",
   "metadata": {},
   "outputs": [
    {
     "name": "stderr",
     "output_type": "stream",
     "text": [
      "/home/ubuntu/anaconda3/envs/privacy_meter/lib/python3.12/site-packages/tqdm/auto.py:21: TqdmWarning: IProgress not found. Please update jupyter and ipywidgets. See https://ipywidgets.readthedocs.io/en/stable/user_install.html\n",
      "  from .autonotebook import tqdm as notebook_tqdm\n"
     ]
    }
   ],
   "source": [
    "import math\n",
    "import time\n",
    "\n",
    "import numpy as np\n",
    "import torch\n",
    "import yaml\n",
    "from torch.utils.data import Subset\n",
    "\n",
    "from privacy_meter.audit import get_average_audit_results, audit_models, get_all_dp_audit_results\n",
    "from privacy_meter.get_signals import get_model_signals\n",
    "from privacy_meter.models.utils import dp_load_models, train_models, dp_train_models\n",
    "from privacy_meter.util import (\n",
    "    check_configs,\n",
    "    setup_log,\n",
    "    initialize_seeds,\n",
    "    create_directories,\n",
    "    load_dataset,\n",
    "    load_canary_dataset,\n",
    "    split_dataset_for_training_poisson\n",
    ")\n",
    "\n",
    "# Enable benchmark mode in cudnn to improve performance when input sizes are consistent\n",
    "torch.backends.cudnn.benchmark = True"
   ]
  },
  {
   "cell_type": "markdown",
   "id": "c129ff11",
   "metadata": {},
   "source": [
    "## Load config"
   ]
  },
  {
   "cell_type": "code",
   "execution_count": 2,
   "id": "9703b579",
   "metadata": {},
   "outputs": [],
   "source": [
    "configs = \"configs/dpaudit/cifar10_dp_train_mislabel_1000.yaml\"\n",
    "with open(configs, \"rb\") as f:\n",
    "        configs = yaml.load(f, Loader=yaml.Loader)\n",
    "\n",
    "# Validate configurations\n",
    "check_configs(configs)"
   ]
  },
  {
   "cell_type": "markdown",
   "id": "0f957267",
   "metadata": {},
   "source": [
    "## Setting up"
   ]
  },
  {
   "cell_type": "code",
   "execution_count": 3,
   "id": "70856708",
   "metadata": {},
   "outputs": [],
   "source": [
    "# Validate configurations\n",
    "check_configs(configs)\n",
    "\n",
    "# Initialize seeds for reproducibility\n",
    "initialize_seeds(configs[\"run\"][\"random_seed\"])\n",
    "\n",
    "# Create necessary directories\n",
    "log_dir = configs[\"run\"][\"log_dir\"]\n",
    "directories = {\n",
    "    \"log_dir\": log_dir,\n",
    "    \"report_dir\": f\"{log_dir}/report\",\n",
    "    \"signal_dir\": f\"{log_dir}/signals\",\n",
    "    \"data_dir\": configs[\"data\"][\"data_dir\"],\n",
    "}\n",
    "create_directories(directories)\n",
    "\n",
    "# Set up logger\n",
    "logger = setup_log(\n",
    "    directories[\"report_dir\"], \"time_analysis\", configs[\"run\"][\"time_log\"]\n",
    ")\n",
    "\n",
    "start_time = time.time()"
   ]
  },
  {
   "cell_type": "markdown",
   "id": "55b1e51a",
   "metadata": {},
   "source": [
    "## Load (canary) dataset"
   ]
  },
  {
   "cell_type": "code",
   "execution_count": 4,
   "id": "ea18682d",
   "metadata": {},
   "outputs": [
    {
     "name": "stderr",
     "output_type": "stream",
     "text": [
      "2025-02-10 03:07:59,287 INFO     Data loaded from data/cifar10_canary.pkl\n",
      "2025-02-10 03:07:59,301 INFO     Population data loaded from data/cifar10_canary_population.pkl\n",
      "2025-02-10 03:07:59,302 INFO     The whole dataset size: 50000\n",
      "2025-02-10 03:07:59,364 INFO     Data loaded from data/cifar10.pkl\n",
      "2025-02-10 03:07:59,386 INFO     Population data loaded from data/cifar10_population.pkl\n",
      "2025-02-10 03:07:59,387 INFO     The whole dataset size: 50000\n",
      "2025-02-10 03:07:59,389 INFO     Loading dataset took 0.17519 seconds\n"
     ]
    }
   ],
   "source": [
    "baseline_time = time.time()\n",
    "if configs['dp_audit'].get('canary_dataset', 'none') == 'none':\n",
    "    dataset, population = load_dataset(configs, directories[\"data_dir\"], logger)\n",
    "    canary_dataset = torch.utils.data.Subset(\n",
    "        dataset, np.arange(configs['dp_audit']['canary_size'])\n",
    "    )\n",
    "elif configs['dp_audit'].get('canary_dataset', 'none') == 'cifar10_canary':\n",
    "    canary_dataset, _ = load_canary_dataset(configs, directories[\"data_dir\"], logger)\n",
    "    if configs[\"dp_audit\"]['canary_size']>len(canary_dataset):\n",
    "        raise ValueError(\"canary data size cannot be larger than the whole cifar10 dataset.\")\n",
    "    canary_dataset = torch.utils.data.Subset(\n",
    "        canary_dataset, np.arange(configs['dp_audit']['canary_size'])\n",
    "    )\n",
    "    clean_dataset, population = load_dataset(configs, directories[\"data_dir\"], logger)\n",
    "    # subsample clean dataset to ensure that the number of clean samples + the number of canary samples = size of the whole training dataset\n",
    "    clean_dataset = torch.utils.data.Subset(\n",
    "        clean_dataset, np.arange(configs['dp_audit']['canary_size'], len(clean_dataset))\n",
    "    )\n",
    "    dataset = torch.utils.data.ConcatDataset([canary_dataset, clean_dataset])\n",
    "else:\n",
    "    raise NotImplementedError(f\"canary dataset {configs['dp_audit']} is not supported\")\n",
    "\n",
    "logger.info(\"Loading dataset took %0.5f seconds\", time.time() - baseline_time)\n"
   ]
  },
  {
   "cell_type": "markdown",
   "id": "9e79b730",
   "metadata": {},
   "source": [
    "## Load or train models"
   ]
  },
  {
   "cell_type": "code",
   "execution_count": 5,
   "id": "410036b8",
   "metadata": {},
   "outputs": [
    {
     "name": "stderr",
     "output_type": "stream",
     "text": [
      "2025-02-10 03:08:01,719 INFO     Loading model 0\n",
      "/home/ubuntu/anaconda3/envs/privacy_meter/lib/python3.12/site-packages/opacus/utils/module_utils.py:102: FutureWarning: You are using `torch.load` with `weights_only=False` (the current default value), which uses the default pickle module implicitly. It is possible to construct malicious pickle data which will execute arbitrary code during unpickling (See https://github.com/pytorch/pytorch/blob/main/SECURITY.md#untrusted-models for more details). In a future release, the default value for `weights_only` will be flipped to `True`. This limits the functions that could be executed during unpickling. Arbitrary objects will no longer be allowed to be loaded via this mode unless they are explicitly allowlisted by the user via `torch.serialization.add_safe_globals`. We recommend you start setting `weights_only=True` for any use case where you don't have full control of the loaded file. Please open an issue on GitHub for any issues related to this experimental feature.\n",
      "  module_copy = torch.load(bytesio)\n",
      "2025-02-10 03:08:03,171 INFO     Loading model 1\n",
      "02/10/2025 03:08:03:INFO:Loading model 1\n",
      "2025-02-10 03:08:03,177 INFO     Loading model 2\n",
      "02/10/2025 03:08:03:INFO:Loading model 2\n",
      "2025-02-10 03:08:03,194 INFO     Loading model 3\n",
      "02/10/2025 03:08:03:INFO:Loading model 3\n",
      "2025-02-10 03:08:03,203 INFO     Model loading/training took 1.5 seconds\n",
      "02/10/2025 03:08:03:INFO:Model loading/training took 1.5 seconds\n"
     ]
    }
   ],
   "source": [
    "# Define experiment parameters\n",
    "num_experiments = configs[\"run\"][\"num_experiments\"]\n",
    "num_reference_models = configs[\"audit\"][\"num_ref_models\"]\n",
    "num_model_pairs = max(math.ceil(num_experiments / 2.0), num_reference_models + 1)\n",
    "\n",
    "# Load or train models\n",
    "baseline_time = time.time()\n",
    "models_list, memberships = dp_load_models(\n",
    "    log_dir, dataset, num_model_pairs * 2, configs, logger\n",
    ")\n",
    "if models_list is None:\n",
    "    # Split dataset for training two models per pair\n",
    "    data_splits, memberships = split_dataset_for_training_poisson(\n",
    "        len(dataset), num_model_pairs\n",
    "    )\n",
    "    if configs['dp_audit']['training_alg'] == 'dp':\n",
    "        models_list = dp_train_models(\n",
    "            log_dir, dataset, data_splits, memberships, configs, logger\n",
    "        ) \n",
    "    elif configs['dp_audit']['training_alg'] == 'nondp':\n",
    "        models_list = train_models(\n",
    "            log_dir, dataset, data_splits, memberships, configs, logger\n",
    "        )\n",
    "logger.info(\n",
    "    \"Model loading/training took %0.1f seconds\", time.time() - baseline_time\n",
    ")\n"
   ]
  },
  {
   "cell_type": "markdown",
   "id": "563455e3",
   "metadata": {},
   "source": [
    "## Prepare auditing dataset"
   ]
  },
  {
   "cell_type": "code",
   "execution_count": 6,
   "id": "f92be589",
   "metadata": {},
   "outputs": [],
   "source": [
    "auditing_dataset = canary_dataset\n",
    "auditing_membership = memberships[\n",
    "        :, : len(canary_dataset)\n",
    "    ].reshape((memberships.shape[0], len(canary_dataset)))\n",
    "\n",
    "population = torch.utils.data.Subset(\n",
    "    population,\n",
    "    np.random.choice(\n",
    "        len(population),\n",
    "        configs[\"audit\"].get(\"population_size\", len(population)),\n",
    "        replace=False,\n",
    "    ),\n",
    ")"
   ]
  },
  {
   "cell_type": "markdown",
   "id": "d136fb3f",
   "metadata": {},
   "source": [
    "## Compute signals"
   ]
  },
  {
   "cell_type": "code",
   "execution_count": 7,
   "id": "d65983a2",
   "metadata": {},
   "outputs": [
    {
     "name": "stderr",
     "output_type": "stream",
     "text": [
      "2025-02-10 03:08:07,831 INFO     Signals loaded from disk successfully.\n",
      "02/10/2025 03:08:07:INFO:Signals loaded from disk successfully.\n",
      "2025-02-10 03:08:07,834 INFO     Signals loaded from disk successfully.\n",
      "02/10/2025 03:08:07:INFO:Signals loaded from disk successfully.\n",
      "2025-02-10 03:08:07,835 INFO     Preparing signals took 0.00567 seconds\n",
      "02/10/2025 03:08:07:INFO:Preparing signals took 0.00567 seconds\n"
     ]
    }
   ],
   "source": [
    "# Generate signals (softmax outputs) for all models\n",
    "baseline_time = time.time()\n",
    "signals = get_model_signals(models_list, auditing_dataset, configs, logger)\n",
    "population_signals = get_model_signals(\n",
    "    models_list, population, configs, logger, is_population=True\n",
    ")\n",
    "logger.info(\"Preparing signals took %0.5f seconds\", time.time() - baseline_time)\n"
   ]
  },
  {
   "cell_type": "markdown",
   "id": "7268e54a",
   "metadata": {},
   "source": [
    "## Audit"
   ]
  },
  {
   "cell_type": "code",
   "execution_count": 8,
   "id": "4b6fcf19",
   "metadata": {},
   "outputs": [
    {
     "name": "stderr",
     "output_type": "stream",
     "text": [
      "2025-02-10 03:08:10,400 INFO     Fine-tuning offline_a using paired model 1\n",
      "02/10/2025 03:08:10:INFO:Fine-tuning offline_a using paired model 1\n",
      "2025-02-10 03:08:10,433 INFO     offline_a=0.00: AUC 0.5540\n",
      "02/10/2025 03:08:10:INFO:offline_a=0.00: AUC 0.5540\n",
      "2025-02-10 03:08:10,469 INFO     offline_a=0.10: AUC 0.5542\n",
      "02/10/2025 03:08:10:INFO:offline_a=0.10: AUC 0.5542\n",
      "2025-02-10 03:08:10,494 INFO     offline_a=0.20: AUC 0.5543\n",
      "02/10/2025 03:08:10:INFO:offline_a=0.20: AUC 0.5543\n",
      "2025-02-10 03:08:10,513 INFO     offline_a=0.30: AUC 0.5543\n",
      "02/10/2025 03:08:10:INFO:offline_a=0.30: AUC 0.5543\n",
      "2025-02-10 03:08:10,531 INFO     offline_a=0.40: AUC 0.5543\n",
      "02/10/2025 03:08:10:INFO:offline_a=0.40: AUC 0.5543\n",
      "2025-02-10 03:08:10,548 INFO     offline_a=0.50: AUC 0.5551\n",
      "02/10/2025 03:08:10:INFO:offline_a=0.50: AUC 0.5551\n",
      "2025-02-10 03:08:10,579 INFO     offline_a=0.60: AUC 0.5556\n",
      "02/10/2025 03:08:10:INFO:offline_a=0.60: AUC 0.5556\n",
      "2025-02-10 03:08:10,602 INFO     offline_a=0.70: AUC 0.5565\n",
      "02/10/2025 03:08:10:INFO:offline_a=0.70: AUC 0.5565\n",
      "2025-02-10 03:08:10,620 INFO     offline_a=0.80: AUC 0.5571\n",
      "02/10/2025 03:08:10:INFO:offline_a=0.80: AUC 0.5571\n",
      "2025-02-10 03:08:10,651 INFO     offline_a=0.90: AUC 0.5599\n",
      "02/10/2025 03:08:10:INFO:offline_a=0.90: AUC 0.5599\n",
      "/home/ubuntu/privacy_meter_dev/attacks.py:135: RuntimeWarning: overflow encountered in divide\n",
      "  ratios = prob_ratio_x[:, np.newaxis] / prob_ratio_z\n",
      "2025-02-10 03:08:10,678 INFO     offline_a=1.00: AUC 0.5694\n",
      "02/10/2025 03:08:10:INFO:offline_a=1.00: AUC 0.5694\n",
      "2025-02-10 03:08:10,680 INFO     The best offline_a is 1.0\n",
      "02/10/2025 03:08:10:INFO:The best offline_a is 1.0\n",
      "2025-02-10 03:08:10,706 INFO     Target Model 0: AUC 0.5295, TPR@0.1%FPR of 0.0000, TPR@0.0%FPR of 0.0000\n",
      "02/10/2025 03:08:10:INFO:Target Model 0: AUC 0.5295, TPR@0.1%FPR of 0.0000, TPR@0.0%FPR of 0.0000\n",
      "2025-02-10 03:08:14,719 INFO     Auditing the privacy risks of target model 0 costs 4.3 seconds\n",
      "02/10/2025 03:08:14:INFO:Auditing the privacy risks of target model 0 costs 4.3 seconds\n",
      "2025-02-10 03:08:15,357 INFO     Best One Run DP Auditing Results: EPS Lower Bound 0.3122 under DELTA 0.00e+00 and P_VALUE 0.05 (86 correct out of 132 guesses, k_neg=124 and k_pos=992\n",
      "02/10/2025 03:08:15:INFO:Best One Run DP Auditing Results: EPS Lower Bound 0.3122 under DELTA 0.00e+00 and P_VALUE 0.05 (86 correct out of 132 guesses, k_neg=124 and k_pos=992\n",
      "2025-02-10 03:08:15,554 INFO     Total runtime: 18.67092 seconds\n",
      "02/10/2025 03:08:15:INFO:Total runtime: 18.67092 seconds\n"
     ]
    },
    {
     "data": {
      "text/plain": [
       "<Figure size 640x480 with 0 Axes>"
      ]
     },
     "metadata": {},
     "output_type": "display_data"
    }
   ],
   "source": [
    "# Perform the privacy audit\n",
    "baseline_time = time.time()\n",
    "target_model_indices = list(range(num_experiments))\n",
    "mia_score_list, membership_list = audit_models(\n",
    "    f\"{directories['report_dir']}/exp\",\n",
    "    target_model_indices,\n",
    "    signals,\n",
    "    population_signals,\n",
    "    auditing_membership,\n",
    "    num_reference_models,\n",
    "    logger,\n",
    "    configs,\n",
    ")\n",
    "\n",
    "get_all_dp_audit_results(directories[\"report_dir\"], mia_score_list, membership_list, logger)\n",
    "\n",
    "\n",
    "# k_neg = 900\n",
    "# k_pos = 59700\n",
    "# get_dp_audit_results_for_k_pos_k_neg(directories[\"report_dir\"], mia_score_list, membership_list, logger, k_pos, k_neg)\n",
    "\n",
    "if len(target_model_indices) > 1:\n",
    "    logger.info(\n",
    "        \"Auditing privacy risk took %0.1f seconds\", time.time() - baseline_time\n",
    "    )\n",
    "\n",
    "# Get average audit results across all experiments\n",
    "if len(target_model_indices) > 1:\n",
    "    get_average_audit_results(\n",
    "        directories[\"report_dir\"], mia_score_list, membership_list, logger\n",
    "    )\n",
    "\n",
    "logger.info(\"Total runtime: %0.5f seconds\", time.time() - start_time)\n"
   ]
  },
  {
   "cell_type": "code",
   "execution_count": 9,
   "id": "43a649c5",
   "metadata": {},
   "outputs": [
    {
     "data": {
      "image/png": "[encoded data removed]",
      "text/plain": [
       "<IPython.core.display.Image object>"
      ]
     },
     "execution_count": 9,
     "metadata": {},
     "output_type": "execute_result"
    }
   ],
   "source": [
    "from IPython.display import Image\n",
    "Image(f\"{log_dir}/report/dp_audit_average.png\")"
   ]
  }
 ],
 "metadata": {
  "kernelspec": {
   "display_name": "privacy_meter",
   "language": "python",
   "name": "python3"
  },
  "language_info": {
   "codemirror_mode": {
    "name": "ipython",
    "version": 3
   },
   "file_extension": ".py",
   "mimetype": "text/x-python",
   "name": "python",
   "nbconvert_exporter": "python",
   "pygments_lexer": "ipython3",
   "version": "3.12.2"
  }
 },
 "nbformat": 4,
 "nbformat_minor": 5
}
